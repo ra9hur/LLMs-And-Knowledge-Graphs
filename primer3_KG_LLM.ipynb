{
 "cells": [
  {
   "cell_type": "markdown",
   "metadata": {},
   "source": [
    "https://python.langchain.com/docs/use_cases/graph/graph_cypher_qa\n",
    "\n",
    "https://python.langchain.com/docs/use_cases/graph/"
   ]
  },
  {
   "cell_type": "code",
   "execution_count": 2,
   "metadata": {},
   "outputs": [],
   "source": [
    "from langchain.chains import GraphCypherQAChain\n",
    "from langchain_community.graphs import Neo4jGraph\n",
    "from langchain_openai import ChatOpenAI\n"
   ]
  },
  {
   "cell_type": "code",
   "execution_count": 3,
   "metadata": {},
   "outputs": [],
   "source": [
    "graph = Neo4jGraph(url=\"bolt://3.238.143.207:7687\", username=\"neo4j\", password=\"hulls-fruits-stairs\")\n"
   ]
  },
  {
   "cell_type": "code",
   "execution_count": 4,
   "metadata": {},
   "outputs": [
    {
     "name": "stdout",
     "output_type": "stream",
     "text": [
      "Node properties are the following:\n",
      "Person {name: STRING, born: INTEGER},Movie {tagline: STRING, title: STRING, released: INTEGER}\n",
      "Relationship properties are the following:\n",
      "ACTED_IN {roles: LIST},REVIEWED {summary: STRING, rating: INTEGER}\n",
      "The relationships are the following:\n",
      "(:Person)-[:ACTED_IN]->(:Movie),(:Person)-[:DIRECTED]->(:Movie),(:Person)-[:PRODUCED]->(:Movie),(:Person)-[:WROTE]->(:Movie),(:Person)-[:FOLLOWS]->(:Person),(:Person)-[:REVIEWED]->(:Movie)\n"
     ]
    }
   ],
   "source": [
    "print(graph.schema)\n"
   ]
  },
  {
   "cell_type": "code",
   "execution_count": 5,
   "metadata": {},
   "outputs": [],
   "source": [
    "from langchain.llms import Ollama\n",
    "\n",
    "llm = Ollama(model=\"openhermes\")\n"
   ]
  },
  {
   "cell_type": "code",
   "execution_count": 6,
   "metadata": {},
   "outputs": [],
   "source": [
    "chain = GraphCypherQAChain.from_llm(\n",
    "                                    llm, \n",
    "                                    graph=graph, \n",
    "                                    verbose=True\n",
    ")\n"
   ]
  },
  {
   "cell_type": "code",
   "execution_count": 9,
   "metadata": {},
   "outputs": [
    {
     "name": "stdout",
     "output_type": "stream",
     "text": [
      "\n",
      "\n",
      "\u001b[1m> Entering new GraphCypherQAChain chain...\u001b[0m\n",
      "Generated Cypher:\n",
      "\u001b[32;1m\u001b[1;3mMATCH (p:Person)-[:ACTED_IN]->(m:Movie {title:\"Hoffa\"}) RETURN p.name AS person, m.title AS movie;\u001b[0m\n",
      "Full Context:\n",
      "\u001b[32;1m\u001b[1;3m[{'person': 'John C. Reilly', 'movie': 'Hoffa'}, {'person': 'Danny DeVito', 'movie': 'Hoffa'}, {'person': 'J.T. Walsh', 'movie': 'Hoffa'}, {'person': 'Jack Nicholson', 'movie': 'Hoffa'}]\u001b[0m\n",
      "\n",
      "\u001b[1m> Finished chain.\u001b[0m\n"
     ]
    },
    {
     "data": {
      "text/plain": [
       "'John C. Reilly, Danny DeVito, J.T. Walsh, and Jack Nicholson played in Hoffa.'"
      ]
     },
     "execution_count": 9,
     "metadata": {},
     "output_type": "execute_result"
    }
   ],
   "source": [
    "chain.run(\"Who played in Hoffa?\")\n"
   ]
  },
  {
   "cell_type": "code",
   "execution_count": 11,
   "metadata": {},
   "outputs": [
    {
     "name": "stdout",
     "output_type": "stream",
     "text": [
      "\n",
      "\n",
      "\u001b[1m> Entering new GraphCypherQAChain chain...\u001b[0m\n",
      "Generated Cypher:\n",
      "\u001b[32;1m\u001b[1;3mMATCH (movie:Movie {title: \"A Few Good Men\"})-[:ACTED_IN]-(person) RETURN person.name AS Person, movie.title AS Movie;\u001b[0m\n",
      "Full Context:\n",
      "\u001b[32;1m\u001b[1;3m[{'Person': 'James Marshall', 'Movie': 'A Few Good Men'}, {'Person': 'Kevin Pollak', 'Movie': 'A Few Good Men'}, {'Person': 'J.T. Walsh', 'Movie': 'A Few Good Men'}, {'Person': 'Aaron Sorkin', 'Movie': 'A Few Good Men'}, {'Person': 'Cuba Gooding Jr.', 'Movie': 'A Few Good Men'}, {'Person': 'Christopher Guest', 'Movie': 'A Few Good Men'}, {'Person': 'Noah Wyle', 'Movie': 'A Few Good Men'}, {'Person': 'Kiefer Sutherland', 'Movie': 'A Few Good Men'}, {'Person': 'Kevin Bacon', 'Movie': 'A Few Good Men'}, {'Person': 'Demi Moore', 'Movie': 'A Few Good Men'}]\u001b[0m\n",
      "\n",
      "\u001b[1m> Finished chain.\u001b[0m\n"
     ]
    },
    {
     "data": {
      "text/plain": [
       "'James Marshall, Kevin Pollak, J.T. Walsh, Aaron Sorkin, Cuba Gooding Jr., Christopher Guest, Noah Wyle, Kiefer Sutherland, Kevin Bacon, and Demi Moore played in A Few Good Men.'"
      ]
     },
     "execution_count": 11,
     "metadata": {},
     "output_type": "execute_result"
    }
   ],
   "source": [
    "movie = \"A Few Good Men\"\n",
    "\n",
    "chain.run(f\"Who played in {movie}?\")\n"
   ]
  },
  {
   "cell_type": "code",
   "execution_count": 14,
   "metadata": {},
   "outputs": [
    {
     "name": "stdout",
     "output_type": "stream",
     "text": [
      "\n",
      "\n",
      "\u001b[1m> Entering new GraphCypherQAChain chain...\u001b[0m\n",
      "Generated Cypher:\n",
      "\u001b[32;1m\u001b[1;3mMATCH (p:Person)-[:DIRECTED]->(m:Movie) WHERE m.title = \"Johnny Mnemonic\" RETURN p.name AS director, m.title AS movie;\u001b[0m\n",
      "Full Context:\n",
      "\u001b[32;1m\u001b[1;3m[{'director': 'Robert Longo', 'movie': 'Johnny Mnemonic'}]\u001b[0m\n",
      "\n",
      "\u001b[1m> Finished chain.\u001b[0m\n"
     ]
    },
    {
     "data": {
      "text/plain": [
       "'Robert Longo directed the movie Johnny Mnemonic.'"
      ]
     },
     "execution_count": 14,
     "metadata": {},
     "output_type": "execute_result"
    }
   ],
   "source": [
    "movie = \"Johnny Mnemonic\"\n",
    "\n",
    "chain.run(f\"Who directed the movie {movie}?\")\n"
   ]
  },
  {
   "cell_type": "code",
   "execution_count": 15,
   "metadata": {},
   "outputs": [
    {
     "name": "stdout",
     "output_type": "stream",
     "text": [
      "\n",
      "\n",
      "\u001b[1m> Entering new GraphCypherQAChain chain...\u001b[0m\n",
      "Generated Cypher:\n",
      "\u001b[32;1m\u001b[1;3mMATCH (p:Person)-[:PRODUCED]->(m:Movie) WHERE m.title = \"Ninja Assassin\" RETURN p.name, p.born AS age;\u001b[0m\n",
      "Full Context:\n",
      "\u001b[32;1m\u001b[1;3m[{'p.name': 'Lana Wachowski', 'age': 1965}, {'p.name': 'Joel Silver', 'age': 1952}, {'p.name': 'Lilly Wachowski', 'age': 1967}]\u001b[0m\n",
      "\n",
      "\u001b[1m> Finished chain.\u001b[0m\n"
     ]
    },
    {
     "data": {
      "text/plain": [
       "'The movie Ninja Assassin was produced by Joel Silver and Lana Wachowski, along with Lilly Wachowski. The individuals are listed with their respective ages for reference: Lana Wachowski (born in 1965), Joel Silver (born in 1952), and Lilly Wachowski (born in 1967).'"
      ]
     },
     "execution_count": 15,
     "metadata": {},
     "output_type": "execute_result"
    }
   ],
   "source": [
    "movie = \"Ninja Assassin\"\n",
    "\n",
    "chain.run(f\"Who produced the movie {movie}?\")\n"
   ]
  },
  {
   "cell_type": "code",
   "execution_count": null,
   "metadata": {},
   "outputs": [],
   "source": []
  },
  {
   "cell_type": "code",
   "execution_count": null,
   "metadata": {},
   "outputs": [],
   "source": []
  }
 ],
 "metadata": {
  "kernelspec": {
   "display_name": "neo4j",
   "language": "python",
   "name": "python3"
  },
  "language_info": {
   "codemirror_mode": {
    "name": "ipython",
    "version": 3
   },
   "file_extension": ".py",
   "mimetype": "text/x-python",
   "name": "python",
   "nbconvert_exporter": "python",
   "pygments_lexer": "ipython3",
   "version": "3.11.7"
  }
 },
 "nbformat": 4,
 "nbformat_minor": 2
}
